{
 "cells": [
  {
   "cell_type": "markdown",
   "id": "e49d3f1a",
   "metadata": {},
   "source": [
    "#### Context:\n",
    "Data related to red and white variants of the Portuguese \"Vinho Verde\" wine.\n",
    "\n",
    "#### Attribute Information:\n",
    "- fixed acidity: most acids involved with wine or fixed or nonvolatile (do not evaporate readily)\n",
    "- volatile acidity: the amount of acetic acid in wine, which at too high of levels can lead to an unpleasant, vinegar taste\n",
    "- citric acid: found in small quantities, citric acid can add 'freshness' and flavor to wines\n",
    "- residual sugar: the amount of sugar remaining after fermentation stops\n",
    "- chlorides: the amount of salt in the wine\n",
    "- free sulfur dioxide: the free form of SO2 exists in equilibrium between molecular SO2 (as a dissolved gas) and bisulfite ion\n",
    "- total sulfur dioxide: amount of free and bound forms of SO2\n",
    "- density: the density of water is close to that of water depending on the percent alcohol and sugar content\n",
    "- pH: describes how acidic or basic a wine is on a scale from 0 (very acidic) to 14 (very basic)\n",
    "- sulphates: a wine additive which can contribute to sulfur dioxide gas (S02) levels\n",
    "- alcohol: the percent alcohol content of the wine\n",
    "- quality: output variable (based on sensory data), score between 0 and 10\n",
    "\n",
    "#### Task At Hand:\n",
    "- Carry out PCA and determine the number of prinicpal components that capture the most variance among the attributes\n",
    "- Use pair plots and analyze which component(s) explains which feature(s) the best\n",
    "- Build a dataframe with the appropriate number of components and examine if correlation exists between the attributes in the same"
   ]
  }
 ],
 "metadata": {
  "kernelspec": {
   "display_name": "Python 3 (ipykernel)",
   "language": "python",
   "name": "python3"
  },
  "language_info": {
   "codemirror_mode": {
    "name": "ipython",
    "version": 3
   },
   "file_extension": ".py",
   "mimetype": "text/x-python",
   "name": "python",
   "nbconvert_exporter": "python",
   "pygments_lexer": "ipython3",
   "version": "3.8.11"
  }
 },
 "nbformat": 4,
 "nbformat_minor": 5
}
