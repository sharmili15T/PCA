{
 "cells": [
  {
   "cell_type": "code",
   "execution_count": 1,
   "id": "25617465",
   "metadata": {},
   "outputs": [],
   "source": [
    "import pandas as pd\n",
    "import numpy as np\n",
    "import matplotlib.pyplot as plt\n",
    "import seaborn as sns\n",
    "%matplotlib inline\n",
    "\n"
   ]
  },
  {
   "cell_type": "code",
   "execution_count": 3,
   "id": "39c11298",
   "metadata": {},
   "outputs": [],
   "source": [
    "#scikit learn PCA standard scaler\n",
    "\n",
    "from sklearn.preprocessing import StandardScaler\n",
    "from sklearn.decomposition import PCA\n",
    "\n",
    "import warnings\n",
    "warnings.filterwarnings('ignore')#to remove the warnings"
   ]
  },
  {
   "cell_type": "code",
   "execution_count": 4,
   "id": "d45eb7e4",
   "metadata": {},
   "outputs": [],
   "source": [
    "df = pd.read_csv('Country-data.csv')"
   ]
  },
  {
   "cell_type": "code",
   "execution_count": 5,
   "id": "27140b94",
   "metadata": {},
   "outputs": [
    {
     "data": {
      "text/html": [
       "<div>\n",
       "<style scoped>\n",
       "    .dataframe tbody tr th:only-of-type {\n",
       "        vertical-align: middle;\n",
       "    }\n",
       "\n",
       "    .dataframe tbody tr th {\n",
       "        vertical-align: top;\n",
       "    }\n",
       "\n",
       "    .dataframe thead th {\n",
       "        text-align: right;\n",
       "    }\n",
       "</style>\n",
       "<table border=\"1\" class=\"dataframe\">\n",
       "  <thead>\n",
       "    <tr style=\"text-align: right;\">\n",
       "      <th></th>\n",
       "      <th>country</th>\n",
       "      <th>child_mort</th>\n",
       "      <th>exports</th>\n",
       "      <th>health</th>\n",
       "      <th>imports</th>\n",
       "      <th>income</th>\n",
       "      <th>inflation</th>\n",
       "      <th>life_expec</th>\n",
       "      <th>total_fer</th>\n",
       "      <th>gdpp</th>\n",
       "    </tr>\n",
       "  </thead>\n",
       "  <tbody>\n",
       "    <tr>\n",
       "      <th>0</th>\n",
       "      <td>Afghanistan</td>\n",
       "      <td>90.2</td>\n",
       "      <td>10.0</td>\n",
       "      <td>7.58</td>\n",
       "      <td>44.9</td>\n",
       "      <td>1610</td>\n",
       "      <td>9.44</td>\n",
       "      <td>56.2</td>\n",
       "      <td>5.82</td>\n",
       "      <td>553</td>\n",
       "    </tr>\n",
       "    <tr>\n",
       "      <th>1</th>\n",
       "      <td>Albania</td>\n",
       "      <td>16.6</td>\n",
       "      <td>28.0</td>\n",
       "      <td>6.55</td>\n",
       "      <td>48.6</td>\n",
       "      <td>9930</td>\n",
       "      <td>4.49</td>\n",
       "      <td>76.3</td>\n",
       "      <td>1.65</td>\n",
       "      <td>4090</td>\n",
       "    </tr>\n",
       "    <tr>\n",
       "      <th>2</th>\n",
       "      <td>Algeria</td>\n",
       "      <td>27.3</td>\n",
       "      <td>38.4</td>\n",
       "      <td>4.17</td>\n",
       "      <td>31.4</td>\n",
       "      <td>12900</td>\n",
       "      <td>16.10</td>\n",
       "      <td>76.5</td>\n",
       "      <td>2.89</td>\n",
       "      <td>4460</td>\n",
       "    </tr>\n",
       "    <tr>\n",
       "      <th>3</th>\n",
       "      <td>Angola</td>\n",
       "      <td>119.0</td>\n",
       "      <td>62.3</td>\n",
       "      <td>2.85</td>\n",
       "      <td>42.9</td>\n",
       "      <td>5900</td>\n",
       "      <td>22.40</td>\n",
       "      <td>60.1</td>\n",
       "      <td>6.16</td>\n",
       "      <td>3530</td>\n",
       "    </tr>\n",
       "    <tr>\n",
       "      <th>4</th>\n",
       "      <td>Antigua and Barbuda</td>\n",
       "      <td>10.3</td>\n",
       "      <td>45.5</td>\n",
       "      <td>6.03</td>\n",
       "      <td>58.9</td>\n",
       "      <td>19100</td>\n",
       "      <td>1.44</td>\n",
       "      <td>76.8</td>\n",
       "      <td>2.13</td>\n",
       "      <td>12200</td>\n",
       "    </tr>\n",
       "  </tbody>\n",
       "</table>\n",
       "</div>"
      ],
      "text/plain": [
       "               country  child_mort  exports  health  imports  income  \\\n",
       "0          Afghanistan        90.2     10.0    7.58     44.9    1610   \n",
       "1              Albania        16.6     28.0    6.55     48.6    9930   \n",
       "2              Algeria        27.3     38.4    4.17     31.4   12900   \n",
       "3               Angola       119.0     62.3    2.85     42.9    5900   \n",
       "4  Antigua and Barbuda        10.3     45.5    6.03     58.9   19100   \n",
       "\n",
       "   inflation  life_expec  total_fer   gdpp  \n",
       "0       9.44        56.2       5.82    553  \n",
       "1       4.49        76.3       1.65   4090  \n",
       "2      16.10        76.5       2.89   4460  \n",
       "3      22.40        60.1       6.16   3530  \n",
       "4       1.44        76.8       2.13  12200  "
      ]
     },
     "execution_count": 5,
     "metadata": {},
     "output_type": "execute_result"
    }
   ],
   "source": [
    "df.head()"
   ]
  },
  {
   "cell_type": "code",
   "execution_count": 7,
   "id": "65c04c52",
   "metadata": {},
   "outputs": [
    {
     "data": {
      "text/html": [
       "<div>\n",
       "<style scoped>\n",
       "    .dataframe tbody tr th:only-of-type {\n",
       "        vertical-align: middle;\n",
       "    }\n",
       "\n",
       "    .dataframe tbody tr th {\n",
       "        vertical-align: top;\n",
       "    }\n",
       "\n",
       "    .dataframe thead th {\n",
       "        text-align: right;\n",
       "    }\n",
       "</style>\n",
       "<table border=\"1\" class=\"dataframe\">\n",
       "  <thead>\n",
       "    <tr style=\"text-align: right;\">\n",
       "      <th></th>\n",
       "      <th>Column Name</th>\n",
       "      <th>Description</th>\n",
       "    </tr>\n",
       "  </thead>\n",
       "  <tbody>\n",
       "    <tr>\n",
       "      <th>0</th>\n",
       "      <td>country</td>\n",
       "      <td>Name of the country</td>\n",
       "    </tr>\n",
       "    <tr>\n",
       "      <th>1</th>\n",
       "      <td>child_mort</td>\n",
       "      <td>Death of children under 5 years of age per 100...</td>\n",
       "    </tr>\n",
       "    <tr>\n",
       "      <th>2</th>\n",
       "      <td>exports</td>\n",
       "      <td>Exports of goods and services. Given as %age o...</td>\n",
       "    </tr>\n",
       "    <tr>\n",
       "      <th>3</th>\n",
       "      <td>health</td>\n",
       "      <td>Total health spending as %age of Total GDP</td>\n",
       "    </tr>\n",
       "    <tr>\n",
       "      <th>4</th>\n",
       "      <td>imports</td>\n",
       "      <td>Imports of goods and services. Given as %age o...</td>\n",
       "    </tr>\n",
       "    <tr>\n",
       "      <th>5</th>\n",
       "      <td>Income</td>\n",
       "      <td>Net income per person</td>\n",
       "    </tr>\n",
       "    <tr>\n",
       "      <th>6</th>\n",
       "      <td>Inflation</td>\n",
       "      <td>The measurement of the annual growth rate of t...</td>\n",
       "    </tr>\n",
       "    <tr>\n",
       "      <th>7</th>\n",
       "      <td>life_expec</td>\n",
       "      <td>The average number of years a new born child w...</td>\n",
       "    </tr>\n",
       "    <tr>\n",
       "      <th>8</th>\n",
       "      <td>total_fer</td>\n",
       "      <td>The number of children that would be born to e...</td>\n",
       "    </tr>\n",
       "    <tr>\n",
       "      <th>9</th>\n",
       "      <td>gdpp</td>\n",
       "      <td>The GDP per capita. Calculated as the Total GD...</td>\n",
       "    </tr>\n",
       "  </tbody>\n",
       "</table>\n",
       "</div>"
      ],
      "text/plain": [
       "  Column Name                                        Description\n",
       "0     country                                Name of the country\n",
       "1  child_mort  Death of children under 5 years of age per 100...\n",
       "2     exports  Exports of goods and services. Given as %age o...\n",
       "3      health         Total health spending as %age of Total GDP\n",
       "4     imports  Imports of goods and services. Given as %age o...\n",
       "5      Income                              Net income per person\n",
       "6   Inflation  The measurement of the annual growth rate of t...\n",
       "7  life_expec  The average number of years a new born child w...\n",
       "8   total_fer  The number of children that would be born to e...\n",
       "9        gdpp  The GDP per capita. Calculated as the Total GD..."
      ]
     },
     "execution_count": 7,
     "metadata": {},
     "output_type": "execute_result"
    }
   ],
   "source": [
    "#it is recommended to ask for dict whenever we are given data\n",
    "df_dictionary = pd.read_csv('data-dictionary.csv')\n",
    "df_dictionary"
   ]
  },
  {
   "cell_type": "code",
   "execution_count": 8,
   "id": "c85b8ce5",
   "metadata": {},
   "outputs": [
    {
     "data": {
      "text/plain": [
       "(167, 10)"
      ]
     },
     "execution_count": 8,
     "metadata": {},
     "output_type": "execute_result"
    }
   ],
   "source": [
    "df.shape"
   ]
  },
  {
   "cell_type": "code",
   "execution_count": 9,
   "id": "1ba7001c",
   "metadata": {},
   "outputs": [
    {
     "data": {
      "text/html": [
       "<div>\n",
       "<style scoped>\n",
       "    .dataframe tbody tr th:only-of-type {\n",
       "        vertical-align: middle;\n",
       "    }\n",
       "\n",
       "    .dataframe tbody tr th {\n",
       "        vertical-align: top;\n",
       "    }\n",
       "\n",
       "    .dataframe thead th {\n",
       "        text-align: right;\n",
       "    }\n",
       "</style>\n",
       "<table border=\"1\" class=\"dataframe\">\n",
       "  <thead>\n",
       "    <tr style=\"text-align: right;\">\n",
       "      <th></th>\n",
       "      <th>child_mort</th>\n",
       "      <th>exports</th>\n",
       "      <th>health</th>\n",
       "      <th>imports</th>\n",
       "      <th>income</th>\n",
       "      <th>inflation</th>\n",
       "      <th>life_expec</th>\n",
       "      <th>total_fer</th>\n",
       "      <th>gdpp</th>\n",
       "    </tr>\n",
       "  </thead>\n",
       "  <tbody>\n",
       "    <tr>\n",
       "      <th>count</th>\n",
       "      <td>167.000000</td>\n",
       "      <td>167.000000</td>\n",
       "      <td>167.000000</td>\n",
       "      <td>167.000000</td>\n",
       "      <td>167.000000</td>\n",
       "      <td>167.000000</td>\n",
       "      <td>167.000000</td>\n",
       "      <td>167.000000</td>\n",
       "      <td>167.000000</td>\n",
       "    </tr>\n",
       "    <tr>\n",
       "      <th>mean</th>\n",
       "      <td>38.270060</td>\n",
       "      <td>41.108976</td>\n",
       "      <td>6.815689</td>\n",
       "      <td>46.890215</td>\n",
       "      <td>17144.688623</td>\n",
       "      <td>7.781832</td>\n",
       "      <td>70.555689</td>\n",
       "      <td>2.947964</td>\n",
       "      <td>12964.155689</td>\n",
       "    </tr>\n",
       "    <tr>\n",
       "      <th>std</th>\n",
       "      <td>40.328931</td>\n",
       "      <td>27.412010</td>\n",
       "      <td>2.746837</td>\n",
       "      <td>24.209589</td>\n",
       "      <td>19278.067698</td>\n",
       "      <td>10.570704</td>\n",
       "      <td>8.893172</td>\n",
       "      <td>1.513848</td>\n",
       "      <td>18328.704809</td>\n",
       "    </tr>\n",
       "    <tr>\n",
       "      <th>min</th>\n",
       "      <td>2.600000</td>\n",
       "      <td>0.109000</td>\n",
       "      <td>1.810000</td>\n",
       "      <td>0.065900</td>\n",
       "      <td>609.000000</td>\n",
       "      <td>-4.210000</td>\n",
       "      <td>32.100000</td>\n",
       "      <td>1.150000</td>\n",
       "      <td>231.000000</td>\n",
       "    </tr>\n",
       "    <tr>\n",
       "      <th>25%</th>\n",
       "      <td>8.250000</td>\n",
       "      <td>23.800000</td>\n",
       "      <td>4.920000</td>\n",
       "      <td>30.200000</td>\n",
       "      <td>3355.000000</td>\n",
       "      <td>1.810000</td>\n",
       "      <td>65.300000</td>\n",
       "      <td>1.795000</td>\n",
       "      <td>1330.000000</td>\n",
       "    </tr>\n",
       "    <tr>\n",
       "      <th>50%</th>\n",
       "      <td>19.300000</td>\n",
       "      <td>35.000000</td>\n",
       "      <td>6.320000</td>\n",
       "      <td>43.300000</td>\n",
       "      <td>9960.000000</td>\n",
       "      <td>5.390000</td>\n",
       "      <td>73.100000</td>\n",
       "      <td>2.410000</td>\n",
       "      <td>4660.000000</td>\n",
       "    </tr>\n",
       "    <tr>\n",
       "      <th>75%</th>\n",
       "      <td>62.100000</td>\n",
       "      <td>51.350000</td>\n",
       "      <td>8.600000</td>\n",
       "      <td>58.750000</td>\n",
       "      <td>22800.000000</td>\n",
       "      <td>10.750000</td>\n",
       "      <td>76.800000</td>\n",
       "      <td>3.880000</td>\n",
       "      <td>14050.000000</td>\n",
       "    </tr>\n",
       "    <tr>\n",
       "      <th>max</th>\n",
       "      <td>208.000000</td>\n",
       "      <td>200.000000</td>\n",
       "      <td>17.900000</td>\n",
       "      <td>174.000000</td>\n",
       "      <td>125000.000000</td>\n",
       "      <td>104.000000</td>\n",
       "      <td>82.800000</td>\n",
       "      <td>7.490000</td>\n",
       "      <td>105000.000000</td>\n",
       "    </tr>\n",
       "  </tbody>\n",
       "</table>\n",
       "</div>"
      ],
      "text/plain": [
       "       child_mort     exports      health     imports         income  \\\n",
       "count  167.000000  167.000000  167.000000  167.000000     167.000000   \n",
       "mean    38.270060   41.108976    6.815689   46.890215   17144.688623   \n",
       "std     40.328931   27.412010    2.746837   24.209589   19278.067698   \n",
       "min      2.600000    0.109000    1.810000    0.065900     609.000000   \n",
       "25%      8.250000   23.800000    4.920000   30.200000    3355.000000   \n",
       "50%     19.300000   35.000000    6.320000   43.300000    9960.000000   \n",
       "75%     62.100000   51.350000    8.600000   58.750000   22800.000000   \n",
       "max    208.000000  200.000000   17.900000  174.000000  125000.000000   \n",
       "\n",
       "        inflation  life_expec   total_fer           gdpp  \n",
       "count  167.000000  167.000000  167.000000     167.000000  \n",
       "mean     7.781832   70.555689    2.947964   12964.155689  \n",
       "std     10.570704    8.893172    1.513848   18328.704809  \n",
       "min     -4.210000   32.100000    1.150000     231.000000  \n",
       "25%      1.810000   65.300000    1.795000    1330.000000  \n",
       "50%      5.390000   73.100000    2.410000    4660.000000  \n",
       "75%     10.750000   76.800000    3.880000   14050.000000  \n",
       "max    104.000000   82.800000    7.490000  105000.000000  "
      ]
     },
     "execution_count": 9,
     "metadata": {},
     "output_type": "execute_result"
    }
   ],
   "source": [
    "df.describe()"
   ]
  },
  {
   "cell_type": "code",
   "execution_count": 10,
   "id": "074c9a5f",
   "metadata": {},
   "outputs": [
    {
     "name": "stdout",
     "output_type": "stream",
     "text": [
      "<class 'pandas.core.frame.DataFrame'>\n",
      "RangeIndex: 167 entries, 0 to 166\n",
      "Data columns (total 10 columns):\n",
      " #   Column      Non-Null Count  Dtype  \n",
      "---  ------      --------------  -----  \n",
      " 0   country     167 non-null    object \n",
      " 1   child_mort  167 non-null    float64\n",
      " 2   exports     167 non-null    float64\n",
      " 3   health      167 non-null    float64\n",
      " 4   imports     167 non-null    float64\n",
      " 5   income      167 non-null    int64  \n",
      " 6   inflation   167 non-null    float64\n",
      " 7   life_expec  167 non-null    float64\n",
      " 8   total_fer   167 non-null    float64\n",
      " 9   gdpp        167 non-null    int64  \n",
      "dtypes: float64(7), int64(2), object(1)\n",
      "memory usage: 13.2+ KB\n"
     ]
    }
   ],
   "source": [
    "df.info()"
   ]
  },
  {
   "cell_type": "code",
   "execution_count": 11,
   "id": "dafab20f",
   "metadata": {},
   "outputs": [
    {
     "data": {
      "text/plain": [
       "country       0\n",
       "child_mort    0\n",
       "exports       0\n",
       "health        0\n",
       "imports       0\n",
       "income        0\n",
       "inflation     0\n",
       "life_expec    0\n",
       "total_fer     0\n",
       "gdpp          0\n",
       "dtype: int64"
      ]
     },
     "execution_count": 11,
     "metadata": {},
     "output_type": "execute_result"
    }
   ],
   "source": [
    "df.isnull().sum()"
   ]
  },
  {
   "cell_type": "code",
   "execution_count": 12,
   "id": "30534e21",
   "metadata": {},
   "outputs": [
    {
     "data": {
      "text/plain": [
       "country        object\n",
       "child_mort    float64\n",
       "exports       float64\n",
       "health        float64\n",
       "imports       float64\n",
       "income          int64\n",
       "inflation     float64\n",
       "life_expec    float64\n",
       "total_fer     float64\n",
       "gdpp            int64\n",
       "dtype: object"
      ]
     },
     "execution_count": 12,
     "metadata": {},
     "output_type": "execute_result"
    }
   ],
   "source": [
    "df.dtypes"
   ]
  },
  {
   "cell_type": "code",
   "execution_count": 14,
   "id": "c5590762",
   "metadata": {},
   "outputs": [
    {
     "data": {
      "text/html": [
       "<div>\n",
       "<style scoped>\n",
       "    .dataframe tbody tr th:only-of-type {\n",
       "        vertical-align: middle;\n",
       "    }\n",
       "\n",
       "    .dataframe tbody tr th {\n",
       "        vertical-align: top;\n",
       "    }\n",
       "\n",
       "    .dataframe thead th {\n",
       "        text-align: right;\n",
       "    }\n",
       "</style>\n",
       "<table border=\"1\" class=\"dataframe\">\n",
       "  <thead>\n",
       "    <tr style=\"text-align: right;\">\n",
       "      <th></th>\n",
       "      <th>country</th>\n",
       "      <th>child_mort</th>\n",
       "      <th>exports</th>\n",
       "      <th>health</th>\n",
       "      <th>imports</th>\n",
       "      <th>income</th>\n",
       "      <th>inflation</th>\n",
       "      <th>life_expec</th>\n",
       "      <th>total_fer</th>\n",
       "      <th>gdpp</th>\n",
       "    </tr>\n",
       "  </thead>\n",
       "  <tbody>\n",
       "  </tbody>\n",
       "</table>\n",
       "</div>"
      ],
      "text/plain": [
       "Empty DataFrame\n",
       "Columns: [country, child_mort, exports, health, imports, income, inflation, life_expec, total_fer, gdpp]\n",
       "Index: []"
      ]
     },
     "execution_count": 14,
     "metadata": {},
     "output_type": "execute_result"
    }
   ],
   "source": [
    "#checking for duplicates\n",
    "\n",
    "df.loc[df.duplicated()]\n",
    "#here none implies that there are no duplicates"
   ]
  },
  {
   "cell_type": "code",
   "execution_count": 15,
   "id": "d77b4e08",
   "metadata": {},
   "outputs": [
    {
     "data": {
      "text/plain": [
       "<AxesSubplot:>"
      ]
     },
     "execution_count": 15,
     "metadata": {},
     "output_type": "execute_result"
    },
    {
     "data": {
      "image/png": "[encoded data removed]",
      "text/plain": [
       "<Figure size 432x288 with 2 Axes>"
      ]
     },
     "metadata": {
      "needs_background": "light"
     },
     "output_type": "display_data"
    }
   ],
   "source": [
    "sns.heatmap(df.corr(),annot= True)"
   ]
  },
  {
   "cell_type": "code",
   "execution_count": 17,
   "id": "50710d6a",
   "metadata": {},
   "outputs": [],
   "source": [
    "#here we have strong corr hence it means duplicacy\n",
    "#hence we want to reduce these components\n",
    "#this is where PCA comes into play"
   ]
  },
  {
   "cell_type": "code",
   "execution_count": 19,
   "id": "bbdd0d37",
   "metadata": {},
   "outputs": [],
   "source": [
    "df['exports'] = df['exports']*df['gdpp']/100\n",
    "df['imports'] = df['imports']*df['gdpp']/100\n",
    "df['health'] = df['health']*df['gdpp']/100\n"
   ]
  },
  {
   "cell_type": "code",
   "execution_count": null,
   "id": "2fd9ecb6",
   "metadata": {},
   "outputs": [],
   "source": [
    "#list of countries- poverty/gdpp/dev"
   ]
  },
  {
   "cell_type": "code",
   "execution_count": null,
   "id": "71fc00b0",
   "metadata": {},
   "outputs": [],
   "source": [
    "#slpit featues and targe"
   ]
  },
  {
   "cell_type": "code",
   "execution_count": 20,
   "id": "3c88685b",
   "metadata": {},
   "outputs": [],
   "source": [
    "df1 = df.copy()"
   ]
  },
  {
   "cell_type": "code",
   "execution_count": 58,
   "id": "bf9d1d19",
   "metadata": {},
   "outputs": [
    {
     "data": {
      "text/plain": [
       "0              Afghanistan\n",
       "1                  Albania\n",
       "2                  Algeria\n",
       "3                   Angola\n",
       "4      Antigua and Barbuda\n",
       "              ...         \n",
       "162                Vanuatu\n",
       "163              Venezuela\n",
       "164                Vietnam\n",
       "165                  Yemen\n",
       "166                 Zambia\n",
       "Name: country, Length: 167, dtype: object"
      ]
     },
     "execution_count": 58,
     "metadata": {},
     "output_type": "execute_result"
    }
   ],
   "source": [
    "country= df['country']\n",
    "country"
   ]
  },
  {
   "cell_type": "code",
   "execution_count": 21,
   "id": "94475506",
   "metadata": {},
   "outputs": [],
   "source": [
    "df1= df1.drop('country',axis=1)"
   ]
  },
  {
   "cell_type": "code",
   "execution_count": 22,
   "id": "a53bc752",
   "metadata": {},
   "outputs": [
    {
     "data": {
      "text/html": [
       "<div>\n",
       "<style scoped>\n",
       "    .dataframe tbody tr th:only-of-type {\n",
       "        vertical-align: middle;\n",
       "    }\n",
       "\n",
       "    .dataframe tbody tr th {\n",
       "        vertical-align: top;\n",
       "    }\n",
       "\n",
       "    .dataframe thead th {\n",
       "        text-align: right;\n",
       "    }\n",
       "</style>\n",
       "<table border=\"1\" class=\"dataframe\">\n",
       "  <thead>\n",
       "    <tr style=\"text-align: right;\">\n",
       "      <th></th>\n",
       "      <th>child_mort</th>\n",
       "      <th>exports</th>\n",
       "      <th>health</th>\n",
       "      <th>imports</th>\n",
       "      <th>income</th>\n",
       "      <th>inflation</th>\n",
       "      <th>life_expec</th>\n",
       "      <th>total_fer</th>\n",
       "      <th>gdpp</th>\n",
       "    </tr>\n",
       "  </thead>\n",
       "  <tbody>\n",
       "    <tr>\n",
       "      <th>0</th>\n",
       "      <td>90.2</td>\n",
       "      <td>55.30</td>\n",
       "      <td>41.9174</td>\n",
       "      <td>248.297</td>\n",
       "      <td>1610</td>\n",
       "      <td>9.44</td>\n",
       "      <td>56.2</td>\n",
       "      <td>5.82</td>\n",
       "      <td>553</td>\n",
       "    </tr>\n",
       "    <tr>\n",
       "      <th>1</th>\n",
       "      <td>16.6</td>\n",
       "      <td>1145.20</td>\n",
       "      <td>267.8950</td>\n",
       "      <td>1987.740</td>\n",
       "      <td>9930</td>\n",
       "      <td>4.49</td>\n",
       "      <td>76.3</td>\n",
       "      <td>1.65</td>\n",
       "      <td>4090</td>\n",
       "    </tr>\n",
       "    <tr>\n",
       "      <th>2</th>\n",
       "      <td>27.3</td>\n",
       "      <td>1712.64</td>\n",
       "      <td>185.9820</td>\n",
       "      <td>1400.440</td>\n",
       "      <td>12900</td>\n",
       "      <td>16.10</td>\n",
       "      <td>76.5</td>\n",
       "      <td>2.89</td>\n",
       "      <td>4460</td>\n",
       "    </tr>\n",
       "    <tr>\n",
       "      <th>3</th>\n",
       "      <td>119.0</td>\n",
       "      <td>2199.19</td>\n",
       "      <td>100.6050</td>\n",
       "      <td>1514.370</td>\n",
       "      <td>5900</td>\n",
       "      <td>22.40</td>\n",
       "      <td>60.1</td>\n",
       "      <td>6.16</td>\n",
       "      <td>3530</td>\n",
       "    </tr>\n",
       "    <tr>\n",
       "      <th>4</th>\n",
       "      <td>10.3</td>\n",
       "      <td>5551.00</td>\n",
       "      <td>735.6600</td>\n",
       "      <td>7185.800</td>\n",
       "      <td>19100</td>\n",
       "      <td>1.44</td>\n",
       "      <td>76.8</td>\n",
       "      <td>2.13</td>\n",
       "      <td>12200</td>\n",
       "    </tr>\n",
       "  </tbody>\n",
       "</table>\n",
       "</div>"
      ],
      "text/plain": [
       "   child_mort  exports    health   imports  income  inflation  life_expec  \\\n",
       "0        90.2    55.30   41.9174   248.297    1610       9.44        56.2   \n",
       "1        16.6  1145.20  267.8950  1987.740    9930       4.49        76.3   \n",
       "2        27.3  1712.64  185.9820  1400.440   12900      16.10        76.5   \n",
       "3       119.0  2199.19  100.6050  1514.370    5900      22.40        60.1   \n",
       "4        10.3  5551.00  735.6600  7185.800   19100       1.44        76.8   \n",
       "\n",
       "   total_fer   gdpp  \n",
       "0       5.82    553  \n",
       "1       1.65   4090  \n",
       "2       2.89   4460  \n",
       "3       6.16   3530  \n",
       "4       2.13  12200  "
      ]
     },
     "execution_count": 22,
     "metadata": {},
     "output_type": "execute_result"
    }
   ],
   "source": [
    "df1.head()"
   ]
  },
  {
   "cell_type": "markdown",
   "id": "1c8376eb",
   "metadata": {},
   "source": [
    "### Scaling Data"
   ]
  },
  {
   "cell_type": "code",
   "execution_count": null,
   "id": "027091c4",
   "metadata": {},
   "outputs": [],
   "source": [
    "#it is importane to statandize/normalise/scale\n",
    "# PCA is sensitive and it takes the val with more var \n",
    "#this leads to biased data"
   ]
  },
  {
   "cell_type": "code",
   "execution_count": 27,
   "id": "10e56500",
   "metadata": {},
   "outputs": [],
   "source": [
    "scaler = StandardScaler()#here scaler is activating\n",
    "df_scaled= scaler.fit_transform(df1) #here we fit the values "
   ]
  },
  {
   "cell_type": "code",
   "execution_count": 26,
   "id": "55127e48",
   "metadata": {},
   "outputs": [
    {
     "data": {
      "text/html": [
       "<div>\n",
       "<style scoped>\n",
       "    .dataframe tbody tr th:only-of-type {\n",
       "        vertical-align: middle;\n",
       "    }\n",
       "\n",
       "    .dataframe tbody tr th {\n",
       "        vertical-align: top;\n",
       "    }\n",
       "\n",
       "    .dataframe thead th {\n",
       "        text-align: right;\n",
       "    }\n",
       "</style>\n",
       "<table border=\"1\" class=\"dataframe\">\n",
       "  <thead>\n",
       "    <tr style=\"text-align: right;\">\n",
       "      <th></th>\n",
       "      <th>child_mort</th>\n",
       "      <th>exports</th>\n",
       "      <th>health</th>\n",
       "      <th>imports</th>\n",
       "      <th>income</th>\n",
       "      <th>inflation</th>\n",
       "      <th>life_expec</th>\n",
       "      <th>total_fer</th>\n",
       "      <th>gdpp</th>\n",
       "    </tr>\n",
       "  </thead>\n",
       "  <tbody>\n",
       "    <tr>\n",
       "      <th>0</th>\n",
       "      <td>1.291532</td>\n",
       "      <td>-0.411011</td>\n",
       "      <td>-0.565040</td>\n",
       "      <td>-0.432276</td>\n",
       "      <td>-0.808245</td>\n",
       "      <td>0.157336</td>\n",
       "      <td>-1.619092</td>\n",
       "      <td>1.902882</td>\n",
       "      <td>-0.679180</td>\n",
       "    </tr>\n",
       "    <tr>\n",
       "      <th>1</th>\n",
       "      <td>-0.538949</td>\n",
       "      <td>-0.350191</td>\n",
       "      <td>-0.439218</td>\n",
       "      <td>-0.313677</td>\n",
       "      <td>-0.375369</td>\n",
       "      <td>-0.312347</td>\n",
       "      <td>0.647866</td>\n",
       "      <td>-0.859973</td>\n",
       "      <td>-0.485623</td>\n",
       "    </tr>\n",
       "    <tr>\n",
       "      <th>2</th>\n",
       "      <td>-0.272833</td>\n",
       "      <td>-0.318526</td>\n",
       "      <td>-0.484826</td>\n",
       "      <td>-0.353720</td>\n",
       "      <td>-0.220844</td>\n",
       "      <td>0.789274</td>\n",
       "      <td>0.670423</td>\n",
       "      <td>-0.038404</td>\n",
       "      <td>-0.465376</td>\n",
       "    </tr>\n",
       "    <tr>\n",
       "      <th>3</th>\n",
       "      <td>2.007808</td>\n",
       "      <td>-0.291375</td>\n",
       "      <td>-0.532363</td>\n",
       "      <td>-0.345953</td>\n",
       "      <td>-0.585043</td>\n",
       "      <td>1.387054</td>\n",
       "      <td>-1.179234</td>\n",
       "      <td>2.128151</td>\n",
       "      <td>-0.516268</td>\n",
       "    </tr>\n",
       "    <tr>\n",
       "      <th>4</th>\n",
       "      <td>-0.695634</td>\n",
       "      <td>-0.104331</td>\n",
       "      <td>-0.178771</td>\n",
       "      <td>0.040735</td>\n",
       "      <td>0.101732</td>\n",
       "      <td>-0.601749</td>\n",
       "      <td>0.704258</td>\n",
       "      <td>-0.541946</td>\n",
       "      <td>-0.041817</td>\n",
       "    </tr>\n",
       "  </tbody>\n",
       "</table>\n",
       "</div>"
      ],
      "text/plain": [
       "   child_mort   exports    health   imports    income  inflation  life_expec  \\\n",
       "0    1.291532 -0.411011 -0.565040 -0.432276 -0.808245   0.157336   -1.619092   \n",
       "1   -0.538949 -0.350191 -0.439218 -0.313677 -0.375369  -0.312347    0.647866   \n",
       "2   -0.272833 -0.318526 -0.484826 -0.353720 -0.220844   0.789274    0.670423   \n",
       "3    2.007808 -0.291375 -0.532363 -0.345953 -0.585043   1.387054   -1.179234   \n",
       "4   -0.695634 -0.104331 -0.178771  0.040735  0.101732  -0.601749    0.704258   \n",
       "\n",
       "   total_fer      gdpp  \n",
       "0   1.902882 -0.679180  \n",
       "1  -0.859973 -0.485623  \n",
       "2  -0.038404 -0.465376  \n",
       "3   2.128151 -0.516268  \n",
       "4  -0.541946 -0.041817  "
      ]
     },
     "execution_count": 26,
     "metadata": {},
     "output_type": "execute_result"
    }
   ],
   "source": [
    "df_scaled1 = pd.DataFrame(df_scaled,columns=df1.columns) #converting the scaled value into datdframe\n",
    "df_scaled1.head()"
   ]
  },
  {
   "cell_type": "code",
   "execution_count": null,
   "id": "8cb2f498",
   "metadata": {},
   "outputs": [],
   "source": []
  },
  {
   "cell_type": "code",
   "execution_count": 28,
   "id": "d30ff402",
   "metadata": {},
   "outputs": [],
   "source": [
    "#creatig instance of pca\n",
    "pca= PCA(svd_solver='randomized',random_state=123)"
   ]
  },
  {
   "cell_type": "code",
   "execution_count": 30,
   "id": "d237ee75",
   "metadata": {},
   "outputs": [
    {
     "data": {
      "text/plain": [
       "PCA(random_state=123, svd_solver='randomized')"
      ]
     },
     "execution_count": 30,
     "metadata": {},
     "output_type": "execute_result"
    }
   ],
   "source": [
    "#here the covariance matrix is generated \n",
    "#the scaled value is being fed to the pca \n",
    "pca.fit(df_scaled1)"
   ]
  },
  {
   "cell_type": "code",
   "execution_count": 31,
   "id": "dd8e5a7a",
   "metadata": {},
   "outputs": [
    {
     "data": {
      "text/plain": [
       "array([[-0.31639186,  0.34288671,  0.358535  ,  0.34486492,  0.38004113,\n",
       "        -0.14308531,  0.34385651, -0.30284224,  0.39998795],\n",
       "       [ 0.47626735,  0.39731091,  0.1550529 ,  0.37078075,  0.12838448,\n",
       "         0.22126089, -0.36981973,  0.4597152 ,  0.2006241 ],\n",
       "       [-0.15001225, -0.03057367, -0.07570322, -0.07217386,  0.14576421,\n",
       "         0.94841868,  0.19675173, -0.07783431,  0.01033941],\n",
       "       [-0.14805195,  0.44942527, -0.59971228,  0.46179779, -0.15480592,\n",
       "        -0.00762798, -0.01839465, -0.21392805, -0.36477239],\n",
       "       [ 0.1019948 , -0.03853829, -0.49319984, -0.2527867 ,  0.79407469,\n",
       "        -0.13642345, -0.15404105, -0.02033568,  0.08750149],\n",
       "       [ 0.19658519, -0.03891112,  0.18069888, -0.01217988, -0.03814681,\n",
       "         0.10840284, -0.58600986, -0.75390075,  0.04538167],\n",
       "       [ 0.76126725, -0.01366973, -0.06461567,  0.02718244, -0.02311312,\n",
       "        -0.02207663,  0.58120846, -0.27314534, -0.04402264],\n",
       "       [ 0.00644411, -0.05526371,  0.43007213,  0.1311355 ,  0.3938113 ,\n",
       "        -0.00607016,  0.002966  ,  0.03429334, -0.79902242],\n",
       "       [-0.00495137, -0.71792388, -0.13034593,  0.66568664,  0.07901102,\n",
       "         0.01128137, -0.03159406,  0.02368185,  0.12846398]])"
      ]
     },
     "execution_count": 31,
     "metadata": {},
     "output_type": "execute_result"
    }
   ],
   "source": [
    "pca.components_  #Pc number =no of features #y=b1*val1+b2*val2\n",
    "#these are the pc components\n",
    "#each value is a PC value and is the linear combnation of the features"
   ]
  },
  {
   "cell_type": "code",
   "execution_count": 32,
   "id": "9f8ea05f",
   "metadata": {},
   "outputs": [
    {
     "data": {
      "text/plain": [
       "array([5.89372984e-01, 1.84451685e-01, 9.91147170e-02, 6.07227801e-02,\n",
       "       3.02917253e-02, 2.45982702e-02, 9.39743701e-03, 1.55641971e-03,\n",
       "       4.93981394e-04])"
      ]
     },
     "execution_count": 32,
     "metadata": {},
     "output_type": "execute_result"
    }
   ],
   "source": [
    "pca.explained_variance_ratio_ #these are the perct of var captured by ach of the pc values"
   ]
  },
  {
   "cell_type": "code",
   "execution_count": 36,
   "id": "0e2532f4",
   "metadata": {},
   "outputs": [
    {
     "data": {
      "text/plain": [
       "Text(0, 0.5, 'Variance Raito ')"
      ]
     },
     "execution_count": 36,
     "metadata": {},
     "output_type": "execute_result"
    },
    {
     "data": {
      "image/png": "[encoded data removed]",
      "text/plain": [
       "<Figure size 432x288 with 1 Axes>"
      ]
     },
     "metadata": {
      "needs_background": "light"
     },
     "output_type": "display_data"
    }
   ],
   "source": [
    "#range(1,len(pca.explained_variance_ratio_)+1) this is the different number o fthe pc components\n",
    "plt.bar(range(1,len(pca.explained_variance_ratio_)+1),pca.explained_variance_ratio_)\n",
    "plt.xlabel('PCA Component')\n",
    "plt.ylabel('Variance Raito ')"
   ]
  },
  {
   "cell_type": "code",
   "execution_count": 38,
   "id": "b36371c7",
   "metadata": {},
   "outputs": [
    {
     "data": {
      "text/html": [
       "<div>\n",
       "<style scoped>\n",
       "    .dataframe tbody tr th:only-of-type {\n",
       "        vertical-align: middle;\n",
       "    }\n",
       "\n",
       "    .dataframe tbody tr th {\n",
       "        vertical-align: top;\n",
       "    }\n",
       "\n",
       "    .dataframe thead th {\n",
       "        text-align: right;\n",
       "    }\n",
       "</style>\n",
       "<table border=\"1\" class=\"dataframe\">\n",
       "  <thead>\n",
       "    <tr style=\"text-align: right;\">\n",
       "      <th></th>\n",
       "      <th>feature</th>\n",
       "      <th>PC1</th>\n",
       "      <th>PC2</th>\n",
       "      <th>PC3</th>\n",
       "    </tr>\n",
       "  </thead>\n",
       "  <tbody>\n",
       "    <tr>\n",
       "      <th>0</th>\n",
       "      <td>child_mort</td>\n",
       "      <td>-0.316392</td>\n",
       "      <td>0.476267</td>\n",
       "      <td>-0.150012</td>\n",
       "    </tr>\n",
       "    <tr>\n",
       "      <th>1</th>\n",
       "      <td>exports</td>\n",
       "      <td>0.342887</td>\n",
       "      <td>0.397311</td>\n",
       "      <td>-0.030574</td>\n",
       "    </tr>\n",
       "    <tr>\n",
       "      <th>2</th>\n",
       "      <td>health</td>\n",
       "      <td>0.358535</td>\n",
       "      <td>0.155053</td>\n",
       "      <td>-0.075703</td>\n",
       "    </tr>\n",
       "    <tr>\n",
       "      <th>3</th>\n",
       "      <td>imports</td>\n",
       "      <td>0.344865</td>\n",
       "      <td>0.370781</td>\n",
       "      <td>-0.072174</td>\n",
       "    </tr>\n",
       "    <tr>\n",
       "      <th>4</th>\n",
       "      <td>income</td>\n",
       "      <td>0.380041</td>\n",
       "      <td>0.128384</td>\n",
       "      <td>0.145764</td>\n",
       "    </tr>\n",
       "    <tr>\n",
       "      <th>5</th>\n",
       "      <td>inflation</td>\n",
       "      <td>-0.143085</td>\n",
       "      <td>0.221261</td>\n",
       "      <td>0.948419</td>\n",
       "    </tr>\n",
       "    <tr>\n",
       "      <th>6</th>\n",
       "      <td>life_expec</td>\n",
       "      <td>0.343857</td>\n",
       "      <td>-0.369820</td>\n",
       "      <td>0.196752</td>\n",
       "    </tr>\n",
       "    <tr>\n",
       "      <th>7</th>\n",
       "      <td>total_fer</td>\n",
       "      <td>-0.302842</td>\n",
       "      <td>0.459715</td>\n",
       "      <td>-0.077834</td>\n",
       "    </tr>\n",
       "    <tr>\n",
       "      <th>8</th>\n",
       "      <td>gdpp</td>\n",
       "      <td>0.399988</td>\n",
       "      <td>0.200624</td>\n",
       "      <td>0.010339</td>\n",
       "    </tr>\n",
       "  </tbody>\n",
       "</table>\n",
       "</div>"
      ],
      "text/plain": [
       "      feature       PC1       PC2       PC3\n",
       "0  child_mort -0.316392  0.476267 -0.150012\n",
       "1     exports  0.342887  0.397311 -0.030574\n",
       "2      health  0.358535  0.155053 -0.075703\n",
       "3     imports  0.344865  0.370781 -0.072174\n",
       "4      income  0.380041  0.128384  0.145764\n",
       "5   inflation -0.143085  0.221261  0.948419\n",
       "6  life_expec  0.343857 -0.369820  0.196752\n",
       "7   total_fer -0.302842  0.459715 -0.077834\n",
       "8        gdpp  0.399988  0.200624  0.010339"
      ]
     },
     "execution_count": 38,
     "metadata": {},
     "output_type": "execute_result"
    }
   ],
   "source": [
    "tab1 = pd.DataFrame({'feature':df1.columns,'PC1':pca.components_[0],'PC2':pca.components_[1],'PC3':pca.components_[2]})\n",
    "tab1"
   ]
  },
  {
   "cell_type": "code",
   "execution_count": 45,
   "id": "60879143",
   "metadata": {},
   "outputs": [
    {
     "data": {
      "image/png": "[encoded data removed]",
      "text/plain": [
       "<Figure size 664.625x576 with 1 Axes>"
      ]
     },
     "metadata": {
      "needs_background": "light"
     },
     "output_type": "display_data"
    }
   ],
   "source": [
    "sns.pairplot(data=tab1,x_vars=['PC1'],y_vars=['PC2'],hue='feature',height=8)\n",
    "\n",
    "#to add the feature name to the point\n",
    "for i,txt in enumerate(tab1['feature']):\n",
    "    plt.annotate(txt,(tab1['PC1'][i],tab1['PC2'][i]))\n",
    "    \n",
    "#here all the values exceot inflation is being captured by pc1 and pc2 \n",
    "#the points here are the combination of var captures by pc1 and pc2"
   ]
  },
  {
   "cell_type": "code",
   "execution_count": 44,
   "id": "ef7f16d9",
   "metadata": {},
   "outputs": [
    {
     "data": {
      "image/png": "[encoded data removed]",
      "text/plain": [
       "<Figure size 664.625x576 with 1 Axes>"
      ]
     },
     "metadata": {
      "needs_background": "light"
     },
     "output_type": "display_data"
    }
   ],
   "source": [
    "sns.pairplot(data=tab1,x_vars=['PC1'],y_vars=['PC3'],hue='feature',height=8)\n",
    "\n",
    "\n",
    "for i,txt in enumerate(tab1['feature']):\n",
    "    plt.annotate(txt,(tab1['PC1'][i],tab1['PC3'][i]))\n",
    "    \n",
    "#here we observe that inflation value is being well explained by pc3"
   ]
  },
  {
   "cell_type": "code",
   "execution_count": 46,
   "id": "519c3ca7",
   "metadata": {},
   "outputs": [],
   "source": [
    "#build dataframe fit df_scaled1 on 3 pcs\n",
    "final_pca= PCA(n_components=3)"
   ]
  },
  {
   "cell_type": "code",
   "execution_count": 47,
   "id": "558910b9",
   "metadata": {},
   "outputs": [],
   "source": [
    "finaldf= final_pca.fit_transform(df_scaled1)"
   ]
  },
  {
   "cell_type": "code",
   "execution_count": 49,
   "id": "d48daddb",
   "metadata": {},
   "outputs": [
    {
     "data": {
      "text/plain": [
       "array([[-2.63557499,  1.47226739, -0.54948887],\n",
       "       [-0.02420556, -1.42989187, -0.01412329],\n",
       "       [-0.4595574 , -0.67549538,  0.95935468],\n",
       "       [-2.72263028,  2.17233183,  0.60021457],\n",
       "       [ 0.64859704, -1.02343678, -0.25743004]])"
      ]
     },
     "execution_count": 49,
     "metadata": {},
     "output_type": "execute_result"
    }
   ],
   "source": [
    "finaldf[:5]"
   ]
  },
  {
   "cell_type": "code",
   "execution_count": 52,
   "id": "b7f4499b",
   "metadata": {},
   "outputs": [
    {
     "data": {
      "text/html": [
       "<div>\n",
       "<style scoped>\n",
       "    .dataframe tbody tr th:only-of-type {\n",
       "        vertical-align: middle;\n",
       "    }\n",
       "\n",
       "    .dataframe tbody tr th {\n",
       "        vertical-align: top;\n",
       "    }\n",
       "\n",
       "    .dataframe thead th {\n",
       "        text-align: right;\n",
       "    }\n",
       "</style>\n",
       "<table border=\"1\" class=\"dataframe\">\n",
       "  <thead>\n",
       "    <tr style=\"text-align: right;\">\n",
       "      <th></th>\n",
       "      <th>PC1</th>\n",
       "      <th>PC2</th>\n",
       "      <th>PC3</th>\n",
       "    </tr>\n",
       "  </thead>\n",
       "  <tbody>\n",
       "    <tr>\n",
       "      <th>0</th>\n",
       "      <td>-2.635575</td>\n",
       "      <td>1.472267</td>\n",
       "      <td>-0.549489</td>\n",
       "    </tr>\n",
       "    <tr>\n",
       "      <th>1</th>\n",
       "      <td>-0.024206</td>\n",
       "      <td>-1.429892</td>\n",
       "      <td>-0.014123</td>\n",
       "    </tr>\n",
       "    <tr>\n",
       "      <th>2</th>\n",
       "      <td>-0.459557</td>\n",
       "      <td>-0.675495</td>\n",
       "      <td>0.959355</td>\n",
       "    </tr>\n",
       "    <tr>\n",
       "      <th>3</th>\n",
       "      <td>-2.722630</td>\n",
       "      <td>2.172332</td>\n",
       "      <td>0.600215</td>\n",
       "    </tr>\n",
       "    <tr>\n",
       "      <th>4</th>\n",
       "      <td>0.648597</td>\n",
       "      <td>-1.023437</td>\n",
       "      <td>-0.257430</td>\n",
       "    </tr>\n",
       "    <tr>\n",
       "      <th>...</th>\n",
       "      <td>...</td>\n",
       "      <td>...</td>\n",
       "      <td>...</td>\n",
       "    </tr>\n",
       "    <tr>\n",
       "      <th>162</th>\n",
       "      <td>-1.175210</td>\n",
       "      <td>-0.275652</td>\n",
       "      <td>-0.667131</td>\n",
       "    </tr>\n",
       "    <tr>\n",
       "      <th>163</th>\n",
       "      <td>-0.314228</td>\n",
       "      <td>-0.016266</td>\n",
       "      <td>3.680273</td>\n",
       "    </tr>\n",
       "    <tr>\n",
       "      <th>164</th>\n",
       "      <td>-0.594449</td>\n",
       "      <td>-1.076335</td>\n",
       "      <td>0.528875</td>\n",
       "    </tr>\n",
       "    <tr>\n",
       "      <th>165</th>\n",
       "      <td>-1.802372</td>\n",
       "      <td>0.588729</td>\n",
       "      <td>1.180851</td>\n",
       "    </tr>\n",
       "    <tr>\n",
       "      <th>166</th>\n",
       "      <td>-2.644505</td>\n",
       "      <td>1.571953</td>\n",
       "      <td>-0.174685</td>\n",
       "    </tr>\n",
       "  </tbody>\n",
       "</table>\n",
       "<p>167 rows × 3 columns</p>\n",
       "</div>"
      ],
      "text/plain": [
       "          PC1       PC2       PC3\n",
       "0   -2.635575  1.472267 -0.549489\n",
       "1   -0.024206 -1.429892 -0.014123\n",
       "2   -0.459557 -0.675495  0.959355\n",
       "3   -2.722630  2.172332  0.600215\n",
       "4    0.648597 -1.023437 -0.257430\n",
       "..        ...       ...       ...\n",
       "162 -1.175210 -0.275652 -0.667131\n",
       "163 -0.314228 -0.016266  3.680273\n",
       "164 -0.594449 -1.076335  0.528875\n",
       "165 -1.802372  0.588729  1.180851\n",
       "166 -2.644505  1.571953 -0.174685\n",
       "\n",
       "[167 rows x 3 columns]"
      ]
     },
     "execution_count": 52,
     "metadata": {},
     "output_type": "execute_result"
    }
   ],
   "source": [
    "final_df= pd.DataFrame(finaldf,columns=['PC1','PC2','PC3'])\n",
    "final_df"
   ]
  },
  {
   "cell_type": "code",
   "execution_count": 54,
   "id": "3459353a",
   "metadata": {},
   "outputs": [
    {
     "data": {
      "text/plain": [
       "<AxesSubplot:>"
      ]
     },
     "execution_count": 54,
     "metadata": {},
     "output_type": "execute_result"
    },
    {
     "data": {
      "image/png": "[encoded data removed]",
      "text/plain": [
       "<Figure size 432x288 with 2 Axes>"
      ]
     },
     "metadata": {
      "needs_background": "light"
     },
     "output_type": "display_data"
    }
   ],
   "source": [
    "sns.heatmap(final_df.corr(),annot=True)\n",
    "#here there is no corr between the features"
   ]
  },
  {
   "cell_type": "code",
   "execution_count": 55,
   "id": "837743e9",
   "metadata": {},
   "outputs": [
    {
     "data": {
      "text/html": [
       "<div>\n",
       "<style scoped>\n",
       "    .dataframe tbody tr th:only-of-type {\n",
       "        vertical-align: middle;\n",
       "    }\n",
       "\n",
       "    .dataframe tbody tr th {\n",
       "        vertical-align: top;\n",
       "    }\n",
       "\n",
       "    .dataframe thead th {\n",
       "        text-align: right;\n",
       "    }\n",
       "</style>\n",
       "<table border=\"1\" class=\"dataframe\">\n",
       "  <thead>\n",
       "    <tr style=\"text-align: right;\">\n",
       "      <th></th>\n",
       "      <th>PC1</th>\n",
       "      <th>PC2</th>\n",
       "      <th>PC3</th>\n",
       "    </tr>\n",
       "  </thead>\n",
       "  <tbody>\n",
       "    <tr>\n",
       "      <th>0</th>\n",
       "      <td>-2.635575</td>\n",
       "      <td>1.472267</td>\n",
       "      <td>-0.549489</td>\n",
       "    </tr>\n",
       "    <tr>\n",
       "      <th>1</th>\n",
       "      <td>-0.024206</td>\n",
       "      <td>-1.429892</td>\n",
       "      <td>-0.014123</td>\n",
       "    </tr>\n",
       "    <tr>\n",
       "      <th>2</th>\n",
       "      <td>-0.459557</td>\n",
       "      <td>-0.675495</td>\n",
       "      <td>0.959355</td>\n",
       "    </tr>\n",
       "    <tr>\n",
       "      <th>3</th>\n",
       "      <td>-2.722630</td>\n",
       "      <td>2.172332</td>\n",
       "      <td>0.600215</td>\n",
       "    </tr>\n",
       "    <tr>\n",
       "      <th>4</th>\n",
       "      <td>0.648597</td>\n",
       "      <td>-1.023437</td>\n",
       "      <td>-0.257430</td>\n",
       "    </tr>\n",
       "  </tbody>\n",
       "</table>\n",
       "</div>"
      ],
      "text/plain": [
       "        PC1       PC2       PC3\n",
       "0 -2.635575  1.472267 -0.549489\n",
       "1 -0.024206 -1.429892 -0.014123\n",
       "2 -0.459557 -0.675495  0.959355\n",
       "3 -2.722630  2.172332  0.600215\n",
       "4  0.648597 -1.023437 -0.257430"
      ]
     },
     "execution_count": 55,
     "metadata": {},
     "output_type": "execute_result"
    }
   ],
   "source": [
    "final_df.head()"
   ]
  },
  {
   "cell_type": "code",
   "execution_count": 60,
   "id": "59482594",
   "metadata": {},
   "outputs": [
    {
     "data": {
      "text/html": [
       "<div>\n",
       "<style scoped>\n",
       "    .dataframe tbody tr th:only-of-type {\n",
       "        vertical-align: middle;\n",
       "    }\n",
       "\n",
       "    .dataframe tbody tr th {\n",
       "        vertical-align: top;\n",
       "    }\n",
       "\n",
       "    .dataframe thead th {\n",
       "        text-align: right;\n",
       "    }\n",
       "</style>\n",
       "<table border=\"1\" class=\"dataframe\">\n",
       "  <thead>\n",
       "    <tr style=\"text-align: right;\">\n",
       "      <th></th>\n",
       "      <th>country</th>\n",
       "      <th>PC1</th>\n",
       "      <th>PC2</th>\n",
       "      <th>PC3</th>\n",
       "    </tr>\n",
       "  </thead>\n",
       "  <tbody>\n",
       "    <tr>\n",
       "      <th>0</th>\n",
       "      <td>Afghanistan</td>\n",
       "      <td>-2.635575</td>\n",
       "      <td>1.472267</td>\n",
       "      <td>-0.549489</td>\n",
       "    </tr>\n",
       "    <tr>\n",
       "      <th>1</th>\n",
       "      <td>Albania</td>\n",
       "      <td>-0.024206</td>\n",
       "      <td>-1.429892</td>\n",
       "      <td>-0.014123</td>\n",
       "    </tr>\n",
       "    <tr>\n",
       "      <th>2</th>\n",
       "      <td>Algeria</td>\n",
       "      <td>-0.459557</td>\n",
       "      <td>-0.675495</td>\n",
       "      <td>0.959355</td>\n",
       "    </tr>\n",
       "    <tr>\n",
       "      <th>3</th>\n",
       "      <td>Angola</td>\n",
       "      <td>-2.722630</td>\n",
       "      <td>2.172332</td>\n",
       "      <td>0.600215</td>\n",
       "    </tr>\n",
       "    <tr>\n",
       "      <th>4</th>\n",
       "      <td>Antigua and Barbuda</td>\n",
       "      <td>0.648597</td>\n",
       "      <td>-1.023437</td>\n",
       "      <td>-0.257430</td>\n",
       "    </tr>\n",
       "  </tbody>\n",
       "</table>\n",
       "</div>"
      ],
      "text/plain": [
       "               country       PC1       PC2       PC3\n",
       "0          Afghanistan -2.635575  1.472267 -0.549489\n",
       "1              Albania -0.024206 -1.429892 -0.014123\n",
       "2              Algeria -0.459557 -0.675495  0.959355\n",
       "3               Angola -2.722630  2.172332  0.600215\n",
       "4  Antigua and Barbuda  0.648597 -1.023437 -0.257430"
      ]
     },
     "execution_count": 60,
     "metadata": {},
     "output_type": "execute_result"
    }
   ],
   "source": [
    "#concatenate the countries value\n",
    "\n",
    "final= pd.concat([country,final_df],axis=1)\n",
    "final.head()"
   ]
  },
  {
   "cell_type": "code",
   "execution_count": 59,
   "id": "79c2ec0b",
   "metadata": {},
   "outputs": [
    {
     "data": {
      "text/plain": [
       "0            Afghanistan\n",
       "1                Albania\n",
       "2                Algeria\n",
       "3                 Angola\n",
       "4    Antigua and Barbuda\n",
       "Name: country, dtype: object"
      ]
     },
     "execution_count": 59,
     "metadata": {},
     "output_type": "execute_result"
    }
   ],
   "source": [
    "country[:5]"
   ]
  },
  {
   "cell_type": "code",
   "execution_count": null,
   "id": "30431370",
   "metadata": {},
   "outputs": [],
   "source": []
  },
  {
   "cell_type": "code",
   "execution_count": null,
   "id": "c1825cd4",
   "metadata": {},
   "outputs": [],
   "source": []
  }
 ],
 "metadata": {
  "kernelspec": {
   "display_name": "Python 3",
   "language": "python",
   "name": "python3"
  },
  "language_info": {
   "codemirror_mode": {
    "name": "ipython",
    "version": 3
   },
   "file_extension": ".py",
   "mimetype": "text/x-python",
   "name": "python",
   "nbconvert_exporter": "python",
   "pygments_lexer": "ipython3",
   "version": "3.8.8"
  }
 },
 "nbformat": 4,
 "nbformat_minor": 5
}
